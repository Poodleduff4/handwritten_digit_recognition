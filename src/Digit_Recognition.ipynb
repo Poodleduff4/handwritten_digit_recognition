{
 "cells": [
  {
   "cell_type": "code",
   "execution_count": null,
   "metadata": {},
   "outputs": [],
   "source": [
    "import numpy as np                   # advanced math library\n",
    "import matplotlib.pyplot as plt      # MATLAB like plotting routines\n",
    "import random                        # for generating random numbers\n",
    "\n",
    "\n",
    "\n",
    "import tensorflow as tf\n",
    "from tensorflow.keras.datasets import mnist     # MNIST dataset is included in Keras\n",
    "from tensorflow.keras.models import Sequential  # Model type to be used\n",
    "\n",
    "from tensorflow.keras.layers import Dense, Dropout, Activation # Types of layers to be used in our model\n",
    "from tensorflow.keras.utils import to_categorical"
   ]
  },
  {
   "cell_type": "code",
   "execution_count": null,
   "metadata": {},
   "outputs": [],
   "source": [
    "class DigitRecognizer():\n",
    "    def __init__(self):\n",
    "       self.model = Sequential()\n",
    "       (self.X_train, self.y_train), (self.X_test, self.y_test) = mnist.load_data()\n",
    "       self.nb_classes = 10 # number of unique digits\n",
    "\n",
    "       self.Y_train = to_categorical(self.y_train, self.nb_classes)\n",
    "       self.Y_test = to_categorical(self.y_test, self.nb_classes)\n",
    "\n",
    "    def loadModel(self, filename):\n",
    "        self.model = tf.keras.models.load_model(filename)\n",
    "\n",
    "    def train(self):\n",
    "        # The MNIST data is split between 60,000 28 x 28 pixel training images and 10,000 28 x 28 pixel images\n",
    "\n",
    "        print(\"X_train shape\", self.X_train.shape)\n",
    "        print(\"y_train shape\", self.y_train.shape)\n",
    "        print(\"X_test shape\", self.X_test.shape)\n",
    "        print(\"y_test shape\", self.y_test.shape)\n",
    "\n",
    "\n",
    "\n",
    "        plt.rcParams['figure.figsize'] = (9,9) # Make the figures a bit bigger\n",
    "        self.X_train = self.X_train.reshape(60000, 784) # reshape 60,000 28 x 28 matrices into 60,000 784-length vectors.\n",
    "        self.X_test = self.X_test.reshape(10000, 784)   # reshape 10,000 28 x 28 matrices into 10,000 784-length vectors.\n",
    "\n",
    "        self.X_train = self.X_train.astype('float32')   # change integers to 32-bit floating point numbers\n",
    "        self.X_test = self.X_test.astype('float32')\n",
    "\n",
    "        self.X_train /= 255                        # normalize each value for each pixel for the entire vector for each input\n",
    "        self.X_test /= 255\n",
    "\n",
    "        print(\"Training matrix shape\", self.X_train.shape)\n",
    "        print(\"Testing matrix shape\", self.X_test.shape)\n",
    "\n",
    "\n",
    "        \n",
    "\n",
    "\n",
    "        self.model = Sequential()\n",
    "        self.model.add(Dense(512, input_shape=(784,)))\n",
    "        self.model.add(Activation('relu'))\n",
    "        self.model.add(Dropout(0.2))\n",
    "\n",
    "        self.model.add(Dense(512))\n",
    "        self.model.add(Activation('relu'))\n",
    "        self.model.add(Dropout(0.2))\n",
    "\n",
    "        self.model.add(Dense(10))\n",
    "        self.model.add(Activation('softmax'))\n",
    "        self.model.summary()\n",
    "\n",
    "        self.model.compile(loss='categorical_crossentropy', optimizer='adam', metrics=['accuracy'])\n",
    "\n",
    "        self.model.fit(self.X_train, self.Y_train, batch_size=128, epochs=5, verbose=1)\n",
    "\n",
    "\n",
    "    def test(self):\n",
    "        score = self.model.evaluate(self.X_test, self.Y_test)\n",
    "        print('Test score:', score[0])\n",
    "        print('Test accuracy:', score[1])\n",
    "\n",
    "\n",
    "\n",
    "        predicted_classes = self.model.predict_classes(self.X_test)\n",
    "\n",
    "        correct_indices = np.nonzero(predicted_classes == self.y_test)[0]\n",
    "\n",
    "        incorrect_indices = np.nonzero(predicted_classes != self.y_test)[0]\n",
    "\n",
    "        plt.figure()\n",
    "        for i, correct in enumerate(correct_indices[:9]):\n",
    "            plt.subplot(3,3,i+1)\n",
    "            plt.imshow(self.X_test[correct].reshape(28,28), cmap='gray', interpolation='none')\n",
    "            plt.title(\"Predicted {}, Class {}\".format(predicted_classes[correct], self.y_test[correct]))\n",
    "            \n",
    "        plt.tight_layout()\n",
    "        plt.show()\n",
    "            \n",
    "        plt.figure()\n",
    "        for i, incorrect in enumerate(incorrect_indices[:9]):\n",
    "            plt.subplot(3,3,i+1)\n",
    "            plt.imshow(self.X_test[incorrect].reshape(28,28), cmap='gray', interpolation='none')\n",
    "            plt.title(\"Predicted {}, Class {}\".format(predicted_classes[incorrect], self.y_test[incorrect]))\n",
    "            \n",
    "        plt.tight_layout()\n",
    "        plt.show()\n",
    "\n",
    "    def Recognize(self, im):\n",
    "        pass\n",
    "\n",
    "Recognizer = DigitRecognizer()\n"
   ]
  },
  {
   "cell_type": "code",
   "execution_count": null,
   "metadata": {},
   "outputs": [],
   "source": [
    "Recognizer.loadModel('Model.h5')"
   ]
  },
  {
   "cell_type": "code",
   "execution_count": null,
   "metadata": {},
   "outputs": [],
   "source": [
    "Recognizer.train()"
   ]
  },
  {
   "cell_type": "code",
   "execution_count": null,
   "metadata": {},
   "outputs": [],
   "source": [
    "Recognizer.test()"
   ]
  },
  {
   "cell_type": "code",
   "execution_count": null,
   "metadata": {},
   "outputs": [],
   "source": [
    "Recognizer.model.save('Model.h5')"
   ]
  },
  {
   "cell_type": "code",
   "execution_count": null,
   "metadata": {},
   "outputs": [],
   "source": []
  }
 ],
 "metadata": {
  "kernelspec": {
   "display_name": "Python 3.8.6 ('handwritten-digit-recognition': venv)",
   "language": "python",
   "name": "python3"
  },
  "language_info": {
   "codemirror_mode": {
    "name": "ipython",
    "version": 3
   },
   "file_extension": ".py",
   "mimetype": "text/x-python",
   "name": "python",
   "nbconvert_exporter": "python",
   "pygments_lexer": "ipython3",
   "version": "3.8.6"
  },
  "orig_nbformat": 4,
  "vscode": {
   "interpreter": {
    "hash": "a5a6e19d4abc05a6a2156549c50df7b585e618551c9a572e0108f31a12b06adc"
   }
  }
 },
 "nbformat": 4,
 "nbformat_minor": 2
}
